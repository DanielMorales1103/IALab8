{
 "cells": [
  {
   "cell_type": "markdown",
   "metadata": {},
   "source": [
    "* Daniel Morales 21785\n",
    "* Brandon Sicay 21757\n",
    "# Task 1\n",
    "### Algoritmo AC-3 y su relación con el algoritmo de Backtracking Search\n",
    "* El Algoritmo de Consistencia de Arcos 3 (AC-3) es un algoritmo clásico en el campo de la inteligencia artificial, específicamente en la resolución de problemas de satisfacción de        restricciones. Su objetivo es reducir el espacio de búsqueda de un problema CSP mediante la aplicación de una técnica conocida como \"consistencia de arcos\" antes de proceder con métodos de búsqueda más intensivos, como el backtracking.\n",
    "* La relación entre AC-3 y el algoritmo de Backtracking Search es que AC-3 a menudo se utiliza como un paso de preprocesamiento antes de aplicar backtracking. Al eliminar valores inconsistentes de los dominios de las variables, AC-3 reduce el espacio de búsqueda, lo que puede hacer que el backtracking sea más eficiente al evitar la exploración de asignaciones que no llevarían a una solución. Además, durante el backtracking, se puede aplicar AC-3 después de cada asignación de variable para mantener la consistencia de arcos a lo largo de la búsqueda, lo cual puede ayudar a identificar más rápidamente las asignaciones que violarían las restricciones y, por lo tanto, a reducir el número de backtracks necesarios.\n",
    "\n",
    "### Definición del término “Arc Consistency”\n",
    "* Significa que para cualquier par de variables en un problema, cada opción posible para una variable tiene al menos una opción correspondiente en la otra que no rompe las reglas establecidas entre ellas. Es como asegurarse de que, no importa lo que elijas para una variable, siempre tendrás al menos una elección válida para la otra que mantenga todo en regla."
   ]
  },
  {
   "cell_type": "markdown",
   "metadata": {},
   "source": [
    "# Task 2\n",
    "### Entendimiento de especificaciónes y restricciones \n",
    "* Tenemos cuatro estudiantes con un conjunto distribuido y posiblemente superpuesto de exámenes.\n",
    "* Cada estudiante puede tener un número variable de exámenes, sin mínimo ni máximo definido.\n",
    "* Los exámenes deben programarse en tres días específicos: lunes, martes y miércoles.\n",
    "* Las restricciones son:\n",
    "    * Ningún estudiante puede tener más de un examen por día.\n",
    "    * No pueden haber dos exámenes del mismo curso para diferentes estudiantes programados el mismo día."
   ]
  },
  {
   "cell_type": "code",
   "execution_count": 33,
   "metadata": {},
   "outputs": [],
   "source": [
    "import time"
   ]
  },
  {
   "cell_type": "code",
   "execution_count": 43,
   "metadata": {},
   "outputs": [],
   "source": [
    "# Datos de entrada\n",
    "estudiantes = ['Estudiante1', 'Estudiante2', 'Estudiante3', 'Estudiante4']\n",
    "examenes = ['Matemáticas', 'Historia', 'Ciencias', 'Inglés', 'Arte', 'Educación Física', 'Informática']\n",
    "dias = ['Lunes', 'Martes', 'Miércoles']\n",
    "\n",
    "# Asignar exámenes\n",
    "asignacion_inicial = {\n",
    "    'Estudiante1': ['Matemáticas', 'Arte','Historia'],\n",
    "    'Estudiante2': ['Inglés', 'Arte'],\n",
    "    'Estudiante3': ['Educación Física', 'Informática','Arte'], \n",
    "    'Estudiante4': ['Ciencias','Matemáticas']\n",
    "}\n",
    "\n"
   ]
  },
  {
   "cell_type": "code",
   "execution_count": 44,
   "metadata": {},
   "outputs": [
    {
     "name": "stdout",
     "output_type": "stream",
     "text": [
      "Estudiante1: {'Matemáticas': 'Lunes', 'Arte': 'Martes', 'Historia': 'Miércoles'}\n",
      "Estudiante2: {'Inglés': 'Lunes', 'Arte': 'Miércoles'}\n",
      "Estudiante3: {'Educación Física': 'Martes', 'Informática': 'Miércoles', 'Arte': 'Lunes'}\n",
      "Estudiante4: {'Ciencias': 'Lunes', 'Matemáticas': 'Martes'}\n",
      "Solución encontrada en  0.0 segundos\n"
     ]
    }
   ],
   "source": [
    "asignaciones = {estudiante: {} for estudiante in estudiantes}\n",
    "for estudiante, exams in asignacion_inicial.items():\n",
    "    for exam in exams:\n",
    "        asignaciones[estudiante][exam] = None  \n",
    "\n",
    "def es_asignacion_valida(asignacion, estudiante, examen, dia):\n",
    "    if any(dia == asignacion[e].get(examen) for e in asignacion):\n",
    "        return False\n",
    "    if dia in asignacion[estudiante].values():\n",
    "        return False\n",
    "    return True\n",
    "\n",
    "def backtracking(asignacion, estudiantes, examenes, dias, estudiante_idx=0):\n",
    "    if all(asignacion[est].get(exam) is not None for est in asignacion for exam in asignacion[est]):\n",
    "        return asignacion  \n",
    "\n",
    "    estudiante_actual = estudiantes[estudiante_idx]\n",
    "\n",
    "    for examen, dia_asignado in asignacion[estudiante_actual].items():\n",
    "        if dia_asignado is None:  \n",
    "            for dia in dias:\n",
    "                if es_asignacion_valida(asignacion, estudiante_actual, examen, dia):\n",
    "                    asignacion[estudiante_actual][examen] = dia  \n",
    "                    if backtracking(asignacion, estudiantes, examenes, dias, estudiante_idx) is not None:\n",
    "                        return asignacion\n",
    "                    asignacion[estudiante_actual][examen] = None \n",
    "\n",
    "    if estudiante_idx + 1 < len(estudiantes):\n",
    "        return backtracking(asignacion, estudiantes, examenes, dias, estudiante_idx + 1)\n",
    "    \n",
    "    return None  \n",
    "start_time = time.time()\n",
    "resultado = backtracking(asignaciones, estudiantes, examenes, dias)\n",
    "end_time = time.time()\n",
    "\n",
    "if resultado:\n",
    "    for estudiante, exam_dias in resultado.items():\n",
    "        print(f\"{estudiante}: {exam_dias}\")\n",
    "    duration = end_time - start_time\n",
    "    print(\"Solución encontrada en \",duration, \"segundos\")\n",
    "else:\n",
    "    print(\"No se encontró una solución válida.\")\n"
   ]
  },
  {
   "cell_type": "code",
   "execution_count": 39,
   "metadata": {},
   "outputs": [
    {
     "name": "stdout",
     "output_type": "stream",
     "text": [
      "Solución encontrada:\n",
      "Estudiante1: {'Matemáticas': 'Lunes', 'Arte': 'Martes', 'Historia': 'Miércoles'}\n",
      "Estudiante2: {'Inglés': 'Lunes', 'Arte': 'Miércoles'}\n",
      "Estudiante3: {'Educación Física': 'Martes', 'Informática': 'Miércoles', 'Arte': 'Lunes'}\n",
      "Estudiante4: {'Ciencias': 'Lunes', 'Matemáticas': 'Martes'}\n",
      "Solución encontrada en  0.022996902465820312 segundos\n"
     ]
    }
   ],
   "source": [
    "asignacion_inicial = {\n",
    "    'Estudiante1': {'Matemáticas': None, 'Arte': None, 'Historia': None},\n",
    "    'Estudiante2': {'Inglés': None, 'Arte': None},\n",
    "    'Estudiante3': {'Educación Física': None, 'Informática': None, 'Arte': None}, \n",
    "    'Estudiante4': {'Ciencias': None, 'Matemáticas': None}\n",
    "}\n",
    "beam_width = 29  # Con un beam_width de 29 es el valor mínimo con el que el algoritmo logra encontrar una solución.\n",
    "\n",
    "def es_asignacion_completa(asignacion):\n",
    "    for exams in asignacion.values():\n",
    "        if None in exams.values():\n",
    "            return False\n",
    "    return True\n",
    "\n",
    "def es_asignacion_valida(asignacion):\n",
    "    examenes_por_dia = {}\n",
    "    examenes_estudiante_por_dia = {est: {} for est in asignacion}\n",
    "    \n",
    "    for est, exams in asignacion.items():\n",
    "        for exam, dia in exams.items():\n",
    "            if dia:  \n",
    "                if dia in examenes_estudiante_por_dia[est]:\n",
    "                    return False\n",
    "                examenes_estudiante_por_dia[est][dia] = exam\n",
    "                \n",
    "                if exam not in examenes_por_dia:\n",
    "                    examenes_por_dia[exam] = set()\n",
    "                if dia in examenes_por_dia[exam]:\n",
    "                    return False\n",
    "                examenes_por_dia[exam].add(dia)\n",
    "    return True\n",
    "\n",
    "def generar_posibles_asignaciones(asignacion):\n",
    "    nuevas_asignaciones = []\n",
    "    for estudiante, examenes in asignacion.items():\n",
    "        for examen, dia in examenes.items():\n",
    "            if dia is None:  \n",
    "                for nuevo_dia in dias:\n",
    "                    nueva_asignacion = {e: exams.copy() for e, exams in asignacion.items()}\n",
    "                    nueva_asignacion[estudiante][examen] = nuevo_dia\n",
    "                    if es_asignacion_valida(nueva_asignacion):\n",
    "                        nuevas_asignaciones.append(nueva_asignacion)\n",
    "                break  \n",
    "    return nuevas_asignaciones\n",
    "\n",
    "def evaluar_asignacion(asignacion):\n",
    "    total_asignados = sum(dia is not None for exams in asignacion.values() for dia in exams.values())\n",
    "    dias_usados = {dia for exams in asignacion.values() for dia in exams.values() if dia}\n",
    "    return total_asignados + len(dias_usados)  \n",
    "\n",
    "def beam_search(asignacion_inicial, beam_width):\n",
    "    posibles_asignaciones = [asignacion_inicial]\n",
    "    \n",
    "    while posibles_asignaciones:\n",
    "        todas_posibles = []\n",
    "        for asignacion in posibles_asignaciones:\n",
    "            todas_posibles.extend(generar_posibles_asignaciones(asignacion))\n",
    "        \n",
    "        todas_posibles.sort(key=evaluar_asignacion, reverse=True)\n",
    "        posibles_asignaciones = todas_posibles[:beam_width]\n",
    "        \n",
    "        for asignacion in posibles_asignaciones:\n",
    "            if es_asignacion_completa(asignacion) and es_asignacion_valida(asignacion):\n",
    "                return asignacion\n",
    "    \n",
    "    return None  \n",
    "start_time = time.time()\n",
    "resultado = beam_search(asignacion_inicial, beam_width)\n",
    "end_time = time.time()\n",
    "if resultado:\n",
    "    print(\"Solución encontrada:\")\n",
    "    for estudiante, exam_dias in resultado.items():\n",
    "        print(f\"{estudiante}: {exam_dias}\")\n",
    "    duration = end_time - start_time\n",
    "    print(\"Solución encontrada en \",duration, \"segundos\")\n",
    "else:\n",
    "    print(\"No se encontró una solución.\")\n"
   ]
  },
  {
   "cell_type": "code",
   "execution_count": 38,
   "metadata": {},
   "outputs": [
    {
     "name": "stdout",
     "output_type": "stream",
     "text": [
      "Solución encontrada:\n",
      "Estudiante1: {'Matemáticas': 'Martes', 'Arte': 'Miércoles', 'Historia': 'Lunes'}\n",
      "Estudiante2: {'Inglés': 'Lunes', 'Arte': 'Martes'}\n",
      "Estudiante3: {'Educación Física': 'Miércoles', 'Informática': 'Martes', 'Arte': 'Lunes'}\n",
      "Estudiante4: {'Ciencias': 'Miércoles', 'Matemáticas': 'Lunes'}\n",
      "Solución encontrada en  0.009337663650512695 segundos\n"
     ]
    }
   ],
   "source": [
    "import random\n",
    "\n",
    "estudiantes_examen = {\n",
    "    'Estudiante1': ['Matemáticas', 'Arte', 'Historia'],\n",
    "    'Estudiante2': ['Inglés', 'Arte'],\n",
    "    'Estudiante3': ['Educación Física', 'Informática', 'Arte'], \n",
    "    'Estudiante4': ['Ciencias', 'Matemáticas']\n",
    "}\n",
    "estudiantes = ['Estudiante1', 'Estudiante2', 'Estudiante3', 'Estudiante4']\n",
    "examenes = ['Matemáticas', 'Historia', 'Ciencias', 'Inglés', 'Arte', 'Educación Física', 'Informática']\n",
    "dias = ['Lunes', 'Martes', 'Miércoles']\n",
    "\n",
    "def generar_asignacion_inicial(estudiantes_examen):\n",
    "    asignacion = {}\n",
    "    for estudiante, examenes in estudiantes_examen.items():\n",
    "        asignacion[estudiante] = {}\n",
    "        for examen in examenes:\n",
    "            asignacion[estudiante][examen] = None  \n",
    "    return asignacion\n",
    "\n",
    "def es_asignacion_valida(asignacion):\n",
    "    examenes_por_dia = {dia: set() for dia in dias}\n",
    "    for estudiante, exam_dias in asignacion.items():\n",
    "        dias_estudiante = set()  \n",
    "        for examen, dia in exam_dias.items():\n",
    "            if dia is None:\n",
    "                continue\n",
    "            if examen in examenes_por_dia[dia] or dia in dias_estudiante:\n",
    "                return False\n",
    "            examenes_por_dia[dia].add(examen)\n",
    "            dias_estudiante.add(dia)\n",
    "    return True\n",
    "\n",
    "def local_search(estudiantes_examen, iteraciones=1000):\n",
    "    asignacion_inicial = generar_asignacion_inicial(estudiantes_examen)\n",
    "    asignacion_actual = asignacion_inicial\n",
    "    for i in range(iteraciones):\n",
    "        estudiante_aleatorio = random.choice(list(asignacion_actual.keys()))\n",
    "        examen_aleatorio = random.choice(list(asignacion_actual[estudiante_aleatorio].keys()))\n",
    "        nuevo_dia = random.choice(dias)\n",
    "\n",
    "        nueva_asignacion = {e: exams.copy() for e, exams in asignacion_actual.items()}\n",
    "        nueva_asignacion[estudiante_aleatorio][examen_aleatorio] = nuevo_dia\n",
    "        \n",
    "        if es_asignacion_valida(nueva_asignacion):\n",
    "            asignacion_actual = nueva_asignacion\n",
    "            \n",
    "    return asignacion_actual\n",
    "\n",
    "start_time = time.time()\n",
    "solucion = local_search(estudiantes_examen)\n",
    "end_time = time.time()\n",
    "print(\"Solución encontrada:\")\n",
    "if solucion:\n",
    "    for estudiante, exam_dias in solucion.items():\n",
    "        print(f\"{estudiante}: {exam_dias}\")\n",
    "    duration = end_time - start_time\n",
    "    print(\"Solución encontrada en \",duration, \"segundos\")\n",
    "else:\n",
    "    print(\"No se encontró una solución.\")"
   ]
  },
  {
   "cell_type": "markdown",
   "metadata": {},
   "source": [
    "### Comparación de Tiempo de Ejecución:\n",
    "\n",
    "* Backtracking es el más rápido, con un tiempo casi instantáneo. Esto podría deberse a que el problema tiene un espacio de soluciones relativamente pequeño, o el algoritmo puede descartar rápidamente ramas no prometedoras del espacio de búsqueda.\n",
    "* Beam Search toma más tiempo que los otros dos algoritmos. A pesar de encontrar la misma solución que el Backtracking, su mayor tiempo de ejecución se debe probablemente a la exploración de un número más amplio de posibles soluciones antes de converger.\n",
    "* Local Search muestra un rendimiento intermedio en términos de tiempo. Aunque es más rápido que el Beam Search, es un poco más lento que el Backtracking, posiblemente debido a la generación aleatoria de soluciones vecinas y la evaluación de su validez."
   ]
  },
  {
   "cell_type": "markdown",
   "metadata": {},
   "source": [
    "### Comparación de Soluciones:\n",
    "\n",
    "* Tanto el Backtracking como el Beam Search llegaron a la misma solución, lo que indica que, para este problema y conjunto de datos específico, ambos algoritmos son capaces de encontrar una solución óptima eficientemente.\n",
    "* Local Search, por otro lado, encontró una solución diferente. Esto no necesariamente significa que sea una solución de menor calidad; simplemente es otra forma válida de asignar los exámenes bajo las restricciones dadas. La búsqueda local puede encontrar soluciones alternativas dependiendo del estado inicial y las transiciones entre estados."
   ]
  },
  {
   "cell_type": "markdown",
   "metadata": {},
   "source": [
    "### Conclusión:\n",
    "\n",
    "* En términos de eficiencia temporal, el Backtracking es superior para este problema específico.\n",
    "* Sin embargo, el Beam Search y la Búsqueda Local también encuentran soluciones válidas, con la Búsqueda Local ofreciendo una alternativa que podría ser útil en casos donde la diversidad de soluciones es deseable.\n",
    "* La elección del algoritmo depende del contexto específico: si se busca la solución más rápidamente posible, el Backtracking parece ser la mejor opción. Si se prefiere explorar un espacio de soluciones más amplio, incluso a costa de un tiempo de ejecución ligeramente mayor, Beam Search y Búsqueda Local son alternativas válidas."
   ]
  }
 ],
 "metadata": {
  "kernelspec": {
   "display_name": "Python 3",
   "language": "python",
   "name": "python3"
  },
  "language_info": {
   "codemirror_mode": {
    "name": "ipython",
    "version": 3
   },
   "file_extension": ".py",
   "mimetype": "text/x-python",
   "name": "python",
   "nbconvert_exporter": "python",
   "pygments_lexer": "ipython3",
   "version": "3.9.13"
  }
 },
 "nbformat": 4,
 "nbformat_minor": 2
}
